{
 "cells": [
  {
   "metadata": {},
   "cell_type": "markdown",
   "source": "# Exploring Retail Rocket",
   "id": "d8f43894850fa0be"
  },
  {
   "metadata": {},
   "cell_type": "markdown",
   "source": "## Required Packages",
   "id": "ddb9b05b76e7af1e"
  },
  {
   "cell_type": "code",
   "id": "initial_id",
   "metadata": {
    "collapsed": true,
    "ExecuteTime": {
     "end_time": "2025-05-28T01:20:56.720819Z",
     "start_time": "2025-05-28T01:20:56.717041Z"
    }
   },
   "source": [
    "import pandas as pd\n",
    "import numpy as np\n",
    "import os\n",
    "from pathlib import Path\n",
    "from datetime import datetime"
   ],
   "outputs": [],
   "execution_count": 37
  },
  {
   "metadata": {},
   "cell_type": "markdown",
   "source": "## Exploring Datasets",
   "id": "87d6fced960e206b"
  },
  {
   "metadata": {
    "ExecuteTime": {
     "end_time": "2025-05-27T23:41:27.756516Z",
     "start_time": "2025-05-27T23:41:27.753420Z"
    }
   },
   "cell_type": "code",
   "source": [
    "directory = Path(\"../Datasets/2/\")\n",
    "files = [f.name for f in Path(directory).iterdir()]\n",
    "\n",
    "print(files)"
   ],
   "id": "15e1ecd304d7aedb",
   "outputs": [
    {
     "name": "stdout",
     "output_type": "stream",
     "text": [
      "['item_properties_part1.csv', 'item_properties_part2.csv', 'category_tree.csv', 'events.csv']\n"
     ]
    }
   ],
   "execution_count": 3
  },
  {
   "metadata": {},
   "cell_type": "markdown",
   "source": "### Item Properties (1)",
   "id": "be240ea0fcb3a7a2"
  },
  {
   "metadata": {
    "ExecuteTime": {
     "end_time": "2025-05-28T01:01:31.536717Z",
     "start_time": "2025-05-28T01:01:29.001791Z"
    }
   },
   "cell_type": "code",
   "source": [
    "item_properties1 = pd.read_csv(\"../Datasets/2/item_properties_part1.csv\")\n",
    "print(f'The dataset contains {len(item_properties1)} rows')\n",
    "item_properties1.head(20)"
   ],
   "id": "d9dad5094520f731",
   "outputs": [
    {
     "name": "stdout",
     "output_type": "stream",
     "text": [
      "The dataset contains 10999999 rows\n"
     ]
    },
    {
     "data": {
      "text/plain": [
       "        timestamp  itemid    property  \\\n",
       "0   1435460400000  460429  categoryid   \n",
       "1   1441508400000  206783         888   \n",
       "2   1439089200000  395014         400   \n",
       "3   1431226800000   59481         790   \n",
       "4   1431831600000  156781         917   \n",
       "5   1436065200000  285026   available   \n",
       "6   1434250800000   89534         213   \n",
       "7   1431831600000  264312           6   \n",
       "8   1433646000000  229370         202   \n",
       "9   1434250800000   98113         451   \n",
       "10  1439089200000  450113         888   \n",
       "11  1435460400000  244127         400   \n",
       "12  1439694000000  264319         227   \n",
       "13  1439694000000  348323         839   \n",
       "14  1434250800000  169055         790   \n",
       "15  1437274800000  186518   available   \n",
       "16  1435460400000  178601         790   \n",
       "17  1436670000000  319291         888   \n",
       "18  1437274800000   49337           0   \n",
       "19  1435460400000  363598        1022   \n",
       "\n",
       "                                                value  \n",
       "0                                                1338  \n",
       "1                             1116713 960601 n277.200  \n",
       "2                     n552.000 639502 n720.000 424566  \n",
       "3                                          n15360.000  \n",
       "4                                              828513  \n",
       "5                                                   0  \n",
       "6                                             1121373  \n",
       "7                                              319724  \n",
       "8                                             1330310  \n",
       "9                                     1141052 n48.000  \n",
       "10                             1038400 45956 n504.000  \n",
       "11                    n552.000 639502 n720.000 424566  \n",
       "12                                     1283144 353870  \n",
       "13                                    1026952 1162729  \n",
       "14                                         n21000.000  \n",
       "15                                                  0  \n",
       "16                                          n5400.000  \n",
       "17                                            1292080  \n",
       "18  n36.000 1186610 119932 717520 903287 98606 632...  \n",
       "19                                      857891 593337  "
      ],
      "text/html": [
       "<div>\n",
       "<style scoped>\n",
       "    .dataframe tbody tr th:only-of-type {\n",
       "        vertical-align: middle;\n",
       "    }\n",
       "\n",
       "    .dataframe tbody tr th {\n",
       "        vertical-align: top;\n",
       "    }\n",
       "\n",
       "    .dataframe thead th {\n",
       "        text-align: right;\n",
       "    }\n",
       "</style>\n",
       "<table border=\"1\" class=\"dataframe\">\n",
       "  <thead>\n",
       "    <tr style=\"text-align: right;\">\n",
       "      <th></th>\n",
       "      <th>timestamp</th>\n",
       "      <th>itemid</th>\n",
       "      <th>property</th>\n",
       "      <th>value</th>\n",
       "    </tr>\n",
       "  </thead>\n",
       "  <tbody>\n",
       "    <tr>\n",
       "      <th>0</th>\n",
       "      <td>1435460400000</td>\n",
       "      <td>460429</td>\n",
       "      <td>categoryid</td>\n",
       "      <td>1338</td>\n",
       "    </tr>\n",
       "    <tr>\n",
       "      <th>1</th>\n",
       "      <td>1441508400000</td>\n",
       "      <td>206783</td>\n",
       "      <td>888</td>\n",
       "      <td>1116713 960601 n277.200</td>\n",
       "    </tr>\n",
       "    <tr>\n",
       "      <th>2</th>\n",
       "      <td>1439089200000</td>\n",
       "      <td>395014</td>\n",
       "      <td>400</td>\n",
       "      <td>n552.000 639502 n720.000 424566</td>\n",
       "    </tr>\n",
       "    <tr>\n",
       "      <th>3</th>\n",
       "      <td>1431226800000</td>\n",
       "      <td>59481</td>\n",
       "      <td>790</td>\n",
       "      <td>n15360.000</td>\n",
       "    </tr>\n",
       "    <tr>\n",
       "      <th>4</th>\n",
       "      <td>1431831600000</td>\n",
       "      <td>156781</td>\n",
       "      <td>917</td>\n",
       "      <td>828513</td>\n",
       "    </tr>\n",
       "    <tr>\n",
       "      <th>5</th>\n",
       "      <td>1436065200000</td>\n",
       "      <td>285026</td>\n",
       "      <td>available</td>\n",
       "      <td>0</td>\n",
       "    </tr>\n",
       "    <tr>\n",
       "      <th>6</th>\n",
       "      <td>1434250800000</td>\n",
       "      <td>89534</td>\n",
       "      <td>213</td>\n",
       "      <td>1121373</td>\n",
       "    </tr>\n",
       "    <tr>\n",
       "      <th>7</th>\n",
       "      <td>1431831600000</td>\n",
       "      <td>264312</td>\n",
       "      <td>6</td>\n",
       "      <td>319724</td>\n",
       "    </tr>\n",
       "    <tr>\n",
       "      <th>8</th>\n",
       "      <td>1433646000000</td>\n",
       "      <td>229370</td>\n",
       "      <td>202</td>\n",
       "      <td>1330310</td>\n",
       "    </tr>\n",
       "    <tr>\n",
       "      <th>9</th>\n",
       "      <td>1434250800000</td>\n",
       "      <td>98113</td>\n",
       "      <td>451</td>\n",
       "      <td>1141052 n48.000</td>\n",
       "    </tr>\n",
       "    <tr>\n",
       "      <th>10</th>\n",
       "      <td>1439089200000</td>\n",
       "      <td>450113</td>\n",
       "      <td>888</td>\n",
       "      <td>1038400 45956 n504.000</td>\n",
       "    </tr>\n",
       "    <tr>\n",
       "      <th>11</th>\n",
       "      <td>1435460400000</td>\n",
       "      <td>244127</td>\n",
       "      <td>400</td>\n",
       "      <td>n552.000 639502 n720.000 424566</td>\n",
       "    </tr>\n",
       "    <tr>\n",
       "      <th>12</th>\n",
       "      <td>1439694000000</td>\n",
       "      <td>264319</td>\n",
       "      <td>227</td>\n",
       "      <td>1283144 353870</td>\n",
       "    </tr>\n",
       "    <tr>\n",
       "      <th>13</th>\n",
       "      <td>1439694000000</td>\n",
       "      <td>348323</td>\n",
       "      <td>839</td>\n",
       "      <td>1026952 1162729</td>\n",
       "    </tr>\n",
       "    <tr>\n",
       "      <th>14</th>\n",
       "      <td>1434250800000</td>\n",
       "      <td>169055</td>\n",
       "      <td>790</td>\n",
       "      <td>n21000.000</td>\n",
       "    </tr>\n",
       "    <tr>\n",
       "      <th>15</th>\n",
       "      <td>1437274800000</td>\n",
       "      <td>186518</td>\n",
       "      <td>available</td>\n",
       "      <td>0</td>\n",
       "    </tr>\n",
       "    <tr>\n",
       "      <th>16</th>\n",
       "      <td>1435460400000</td>\n",
       "      <td>178601</td>\n",
       "      <td>790</td>\n",
       "      <td>n5400.000</td>\n",
       "    </tr>\n",
       "    <tr>\n",
       "      <th>17</th>\n",
       "      <td>1436670000000</td>\n",
       "      <td>319291</td>\n",
       "      <td>888</td>\n",
       "      <td>1292080</td>\n",
       "    </tr>\n",
       "    <tr>\n",
       "      <th>18</th>\n",
       "      <td>1437274800000</td>\n",
       "      <td>49337</td>\n",
       "      <td>0</td>\n",
       "      <td>n36.000 1186610 119932 717520 903287 98606 632...</td>\n",
       "    </tr>\n",
       "    <tr>\n",
       "      <th>19</th>\n",
       "      <td>1435460400000</td>\n",
       "      <td>363598</td>\n",
       "      <td>1022</td>\n",
       "      <td>857891 593337</td>\n",
       "    </tr>\n",
       "  </tbody>\n",
       "</table>\n",
       "</div>"
      ]
     },
     "execution_count": 12,
     "metadata": {},
     "output_type": "execute_result"
    }
   ],
   "execution_count": 12
  },
  {
   "metadata": {},
   "cell_type": "markdown",
   "source": "### Item Properties (2)",
   "id": "67fe7ad5b0d3d55f"
  },
  {
   "metadata": {
    "ExecuteTime": {
     "end_time": "2025-05-28T01:01:33.740043Z",
     "start_time": "2025-05-28T01:01:31.567143Z"
    }
   },
   "cell_type": "code",
   "source": [
    "item_properties2 = pd.read_csv(\"../Datasets/2/item_properties_part2.csv\")\n",
    "print(f'The dataset contains {len(item_properties2)} rows')\n",
    "item_properties2.head(20)"
   ],
   "id": "34510c8862e0f17f",
   "outputs": [
    {
     "name": "stdout",
     "output_type": "stream",
     "text": [
      "The dataset contains 9275903 rows\n"
     ]
    },
    {
     "data": {
      "text/plain": [
       "        timestamp  itemid    property  \\\n",
       "0   1433041200000  183478         561   \n",
       "1   1439694000000  132256         976   \n",
       "2   1435460400000  420307         921   \n",
       "3   1431831600000  403324         917   \n",
       "4   1435460400000  230701         521   \n",
       "5   1433041200000  286407         202   \n",
       "6   1438484400000  256368         888   \n",
       "7   1437879600000  307534         888   \n",
       "8   1439089200000  102767         888   \n",
       "9   1431831600000  215180          71   \n",
       "10  1435460400000  319117         202   \n",
       "11  1433041200000  377946         202   \n",
       "12  1432436400000  177411         663   \n",
       "13  1435460400000   27497          71   \n",
       "14  1431831600000  430773         283   \n",
       "15  1431226800000    8921  categoryid   \n",
       "16  1435460400000  228955         888   \n",
       "17  1433041200000  429072         575   \n",
       "18  1431226800000  362491         283   \n",
       "19  1437879600000  400708         544   \n",
       "\n",
       "                                                value  \n",
       "0                                              769062  \n",
       "1                                     n26.400 1135780  \n",
       "2                                     1149317 1257525  \n",
       "3                                             1204143  \n",
       "4                                              769062  \n",
       "5                                              820407  \n",
       "6         437265 1296497 n24.000 229949 651738 285933  \n",
       "7         150169 212349 1095303 824508 1257235 153900  \n",
       "8   5135 790941 1055803 221748 122132 n12.000 1135...  \n",
       "9                                             1096621  \n",
       "10                                             876900  \n",
       "11        235534 307222 237874 640322 1169762 1186729  \n",
       "12                                           n204.000  \n",
       "13                                            1115859  \n",
       "14       257131 82777 493871 n27636.000 906078 939413  \n",
       "15                                               1188  \n",
       "16                                            1206551  \n",
       "17                         709083 n96000011187276.000  \n",
       "18                      1283144 353870 1043378 243044  \n",
       "19                                    1055803 1164666  "
      ],
      "text/html": [
       "<div>\n",
       "<style scoped>\n",
       "    .dataframe tbody tr th:only-of-type {\n",
       "        vertical-align: middle;\n",
       "    }\n",
       "\n",
       "    .dataframe tbody tr th {\n",
       "        vertical-align: top;\n",
       "    }\n",
       "\n",
       "    .dataframe thead th {\n",
       "        text-align: right;\n",
       "    }\n",
       "</style>\n",
       "<table border=\"1\" class=\"dataframe\">\n",
       "  <thead>\n",
       "    <tr style=\"text-align: right;\">\n",
       "      <th></th>\n",
       "      <th>timestamp</th>\n",
       "      <th>itemid</th>\n",
       "      <th>property</th>\n",
       "      <th>value</th>\n",
       "    </tr>\n",
       "  </thead>\n",
       "  <tbody>\n",
       "    <tr>\n",
       "      <th>0</th>\n",
       "      <td>1433041200000</td>\n",
       "      <td>183478</td>\n",
       "      <td>561</td>\n",
       "      <td>769062</td>\n",
       "    </tr>\n",
       "    <tr>\n",
       "      <th>1</th>\n",
       "      <td>1439694000000</td>\n",
       "      <td>132256</td>\n",
       "      <td>976</td>\n",
       "      <td>n26.400 1135780</td>\n",
       "    </tr>\n",
       "    <tr>\n",
       "      <th>2</th>\n",
       "      <td>1435460400000</td>\n",
       "      <td>420307</td>\n",
       "      <td>921</td>\n",
       "      <td>1149317 1257525</td>\n",
       "    </tr>\n",
       "    <tr>\n",
       "      <th>3</th>\n",
       "      <td>1431831600000</td>\n",
       "      <td>403324</td>\n",
       "      <td>917</td>\n",
       "      <td>1204143</td>\n",
       "    </tr>\n",
       "    <tr>\n",
       "      <th>4</th>\n",
       "      <td>1435460400000</td>\n",
       "      <td>230701</td>\n",
       "      <td>521</td>\n",
       "      <td>769062</td>\n",
       "    </tr>\n",
       "    <tr>\n",
       "      <th>5</th>\n",
       "      <td>1433041200000</td>\n",
       "      <td>286407</td>\n",
       "      <td>202</td>\n",
       "      <td>820407</td>\n",
       "    </tr>\n",
       "    <tr>\n",
       "      <th>6</th>\n",
       "      <td>1438484400000</td>\n",
       "      <td>256368</td>\n",
       "      <td>888</td>\n",
       "      <td>437265 1296497 n24.000 229949 651738 285933</td>\n",
       "    </tr>\n",
       "    <tr>\n",
       "      <th>7</th>\n",
       "      <td>1437879600000</td>\n",
       "      <td>307534</td>\n",
       "      <td>888</td>\n",
       "      <td>150169 212349 1095303 824508 1257235 153900</td>\n",
       "    </tr>\n",
       "    <tr>\n",
       "      <th>8</th>\n",
       "      <td>1439089200000</td>\n",
       "      <td>102767</td>\n",
       "      <td>888</td>\n",
       "      <td>5135 790941 1055803 221748 122132 n12.000 1135...</td>\n",
       "    </tr>\n",
       "    <tr>\n",
       "      <th>9</th>\n",
       "      <td>1431831600000</td>\n",
       "      <td>215180</td>\n",
       "      <td>71</td>\n",
       "      <td>1096621</td>\n",
       "    </tr>\n",
       "    <tr>\n",
       "      <th>10</th>\n",
       "      <td>1435460400000</td>\n",
       "      <td>319117</td>\n",
       "      <td>202</td>\n",
       "      <td>876900</td>\n",
       "    </tr>\n",
       "    <tr>\n",
       "      <th>11</th>\n",
       "      <td>1433041200000</td>\n",
       "      <td>377946</td>\n",
       "      <td>202</td>\n",
       "      <td>235534 307222 237874 640322 1169762 1186729</td>\n",
       "    </tr>\n",
       "    <tr>\n",
       "      <th>12</th>\n",
       "      <td>1432436400000</td>\n",
       "      <td>177411</td>\n",
       "      <td>663</td>\n",
       "      <td>n204.000</td>\n",
       "    </tr>\n",
       "    <tr>\n",
       "      <th>13</th>\n",
       "      <td>1435460400000</td>\n",
       "      <td>27497</td>\n",
       "      <td>71</td>\n",
       "      <td>1115859</td>\n",
       "    </tr>\n",
       "    <tr>\n",
       "      <th>14</th>\n",
       "      <td>1431831600000</td>\n",
       "      <td>430773</td>\n",
       "      <td>283</td>\n",
       "      <td>257131 82777 493871 n27636.000 906078 939413</td>\n",
       "    </tr>\n",
       "    <tr>\n",
       "      <th>15</th>\n",
       "      <td>1431226800000</td>\n",
       "      <td>8921</td>\n",
       "      <td>categoryid</td>\n",
       "      <td>1188</td>\n",
       "    </tr>\n",
       "    <tr>\n",
       "      <th>16</th>\n",
       "      <td>1435460400000</td>\n",
       "      <td>228955</td>\n",
       "      <td>888</td>\n",
       "      <td>1206551</td>\n",
       "    </tr>\n",
       "    <tr>\n",
       "      <th>17</th>\n",
       "      <td>1433041200000</td>\n",
       "      <td>429072</td>\n",
       "      <td>575</td>\n",
       "      <td>709083 n96000011187276.000</td>\n",
       "    </tr>\n",
       "    <tr>\n",
       "      <th>18</th>\n",
       "      <td>1431226800000</td>\n",
       "      <td>362491</td>\n",
       "      <td>283</td>\n",
       "      <td>1283144 353870 1043378 243044</td>\n",
       "    </tr>\n",
       "    <tr>\n",
       "      <th>19</th>\n",
       "      <td>1437879600000</td>\n",
       "      <td>400708</td>\n",
       "      <td>544</td>\n",
       "      <td>1055803 1164666</td>\n",
       "    </tr>\n",
       "  </tbody>\n",
       "</table>\n",
       "</div>"
      ]
     },
     "execution_count": 13,
     "metadata": {},
     "output_type": "execute_result"
    }
   ],
   "execution_count": 13
  },
  {
   "metadata": {},
   "cell_type": "markdown",
   "source": [
    "Both the item properties enlists the properties and the changes in the properties of items at specific intervals.\n",
    "- It is a change log so if any of the properties of an item changes.\n",
    "- It is logged only at specific intervals, so a snapshot of the change log\n",
    "- If any property changes the changes is recorded along with the timestamp\n",
    "- All rows in the property column are hashed (words into numbers)\n",
    "- All rows in the value were normalised (cleaned and simplified e.g., lowercased, removed special characters etc.). and then went through a stemming procedure (e.g., running to run, universities to univers etc.)\n",
    "**Note:**The above step reduced vocabulary size to improve generalisation for machine learning models.\n",
    "- After stemming each word is converted to a number using a hashing function. This removes actual text (for privacy and compactness)"
   ],
   "id": "18fb30a149d92541"
  },
  {
   "metadata": {
    "ExecuteTime": {
     "end_time": "2025-05-28T01:04:50.543244Z",
     "start_time": "2025-05-28T01:04:50.164251Z"
    }
   },
   "cell_type": "code",
   "source": [
    "# combining item_properties1 and item_properties2\n",
    "item_properties = pd.concat([item_properties1, item_properties2])\n",
    "print(f'Total number of rows after the concatenation: {len(item_properties)}')"
   ],
   "id": "3e504f09d4845d94",
   "outputs": [
    {
     "name": "stdout",
     "output_type": "stream",
     "text": [
      "Total number of rows after the concatenation: 20275902\n"
     ]
    }
   ],
   "execution_count": 18
  },
  {
   "metadata": {
    "ExecuteTime": {
     "end_time": "2025-05-28T01:06:55.114952Z",
     "start_time": "2025-05-28T01:06:54.572622Z"
    }
   },
   "cell_type": "code",
   "source": [
    "# checking for null values in the dataset\n",
    "item_properties.isnull().sum()"
   ],
   "id": "603e08663acebc99",
   "outputs": [
    {
     "data": {
      "text/plain": [
       "timestamp    0\n",
       "itemid       0\n",
       "property     0\n",
       "value        0\n",
       "dtype: int64"
      ]
     },
     "execution_count": 25,
     "metadata": {},
     "output_type": "execute_result"
    }
   ],
   "execution_count": 25
  },
  {
   "metadata": {
    "ExecuteTime": {
     "end_time": "2025-05-28T01:09:10.285914Z",
     "start_time": "2025-05-28T01:09:10.025648Z"
    }
   },
   "cell_type": "code",
   "source": [
    "# getting the count of distinct values in item_id\n",
    "item_properties['itemid'].value_counts()\n"
   ],
   "id": "1f4960e3f23bd051",
   "outputs": [
    {
     "data": {
      "text/plain": [
       "itemid\n",
       "158903    468\n",
       "254069    462\n",
       "91855     461\n",
       "150800    459\n",
       "120386    444\n",
       "         ... \n",
       "251894     15\n",
       "342400     14\n",
       "73456      13\n",
       "207227     12\n",
       "243157     12\n",
       "Name: count, Length: 417053, dtype: int64"
      ]
     },
     "execution_count": 31,
     "metadata": {},
     "output_type": "execute_result"
    }
   ],
   "execution_count": 31
  },
  {
   "metadata": {},
   "cell_type": "markdown",
   "source": "There are 417,053 items which have at least 12 properties listed in the dataset",
   "id": "abaac60f643b10f7"
  },
  {
   "metadata": {
    "ExecuteTime": {
     "end_time": "2025-05-28T01:12:30.022087Z",
     "start_time": "2025-05-28T01:12:29.495413Z"
    }
   },
   "cell_type": "code",
   "source": [
    "# checking the count of distinct properties in the dataset\n",
    "item_properties['property'].value_counts()"
   ],
   "id": "b3c63cdf6824df7",
   "outputs": [
    {
     "data": {
      "text/plain": [
       "property\n",
       "888           3000398\n",
       "790           1790516\n",
       "available     1503639\n",
       "categoryid     788214\n",
       "6              631471\n",
       "               ...   \n",
       "782                 1\n",
       "288                 1\n",
       "722                 1\n",
       "744                 1\n",
       "769                 1\n",
       "Name: count, Length: 1104, dtype: int64"
      ]
     },
     "execution_count": 32,
     "metadata": {},
     "output_type": "execute_result"
    }
   ],
   "execution_count": 32
  },
  {
   "metadata": {},
   "cell_type": "markdown",
   "source": " There are 1104 unique/distinct properties in our dataset with at least 1 value in the dataset",
   "id": "4c51bad881c1c63e"
  },
  {
   "metadata": {
    "ExecuteTime": {
     "end_time": "2025-05-28T01:29:09.019694Z",
     "start_time": "2025-05-28T01:29:07.489100Z"
    }
   },
   "cell_type": "code",
   "source": [
    "# checking the time range for the entire dataset\n",
    "datetime.utcfromtimestamp(max(item_properties['timestamp'])/1000) - datetime.utcfromtimestamp(min(item_properties['timestamp'])/1000)"
   ],
   "id": "6f1e48bf20cb1da1",
   "outputs": [
    {
     "data": {
      "text/plain": [
       "datetime.timedelta(days=126)"
      ]
     },
     "execution_count": 45,
     "metadata": {},
     "output_type": "execute_result"
    }
   ],
   "execution_count": 45
  },
  {
   "metadata": {},
   "cell_type": "markdown",
   "source": "So we have a total of 126 days worth of data here.",
   "id": "c44531bf0e56eef"
  },
  {
   "metadata": {},
   "cell_type": "markdown",
   "source": "### Category Tree",
   "id": "74e953af5f5910d9"
  },
  {
   "metadata": {
    "ExecuteTime": {
     "end_time": "2025-05-28T01:01:40.043400Z",
     "start_time": "2025-05-28T01:01:40.033968Z"
    }
   },
   "cell_type": "code",
   "source": [
    "category_tree = pd.read_csv(\"../Datasets/2/category_tree.csv\")\n",
    "print(f'The dataset contains {len(category_tree)} rows')\n",
    "category_tree.head(20)"
   ],
   "id": "4ab222daafdfca53",
   "outputs": [
    {
     "name": "stdout",
     "output_type": "stream",
     "text": [
      "The dataset contains 1669 rows\n"
     ]
    },
    {
     "data": {
      "text/plain": [
       "    categoryid  parentid\n",
       "0         1016     213.0\n",
       "1          809     169.0\n",
       "2          570       9.0\n",
       "3         1691     885.0\n",
       "4          536    1691.0\n",
       "5          231       NaN\n",
       "6          542     378.0\n",
       "7         1146     542.0\n",
       "8         1140     542.0\n",
       "9         1479    1537.0\n",
       "10          83    1621.0\n",
       "11         688     893.0\n",
       "12         257     312.0\n",
       "13        1640     622.0\n",
       "14         963    1281.0\n",
       "15         412    1110.0\n",
       "16         948    1110.0\n",
       "17         934    1110.0\n",
       "18         148    1110.0\n",
       "19          12    1110.0"
      ],
      "text/html": [
       "<div>\n",
       "<style scoped>\n",
       "    .dataframe tbody tr th:only-of-type {\n",
       "        vertical-align: middle;\n",
       "    }\n",
       "\n",
       "    .dataframe tbody tr th {\n",
       "        vertical-align: top;\n",
       "    }\n",
       "\n",
       "    .dataframe thead th {\n",
       "        text-align: right;\n",
       "    }\n",
       "</style>\n",
       "<table border=\"1\" class=\"dataframe\">\n",
       "  <thead>\n",
       "    <tr style=\"text-align: right;\">\n",
       "      <th></th>\n",
       "      <th>categoryid</th>\n",
       "      <th>parentid</th>\n",
       "    </tr>\n",
       "  </thead>\n",
       "  <tbody>\n",
       "    <tr>\n",
       "      <th>0</th>\n",
       "      <td>1016</td>\n",
       "      <td>213.0</td>\n",
       "    </tr>\n",
       "    <tr>\n",
       "      <th>1</th>\n",
       "      <td>809</td>\n",
       "      <td>169.0</td>\n",
       "    </tr>\n",
       "    <tr>\n",
       "      <th>2</th>\n",
       "      <td>570</td>\n",
       "      <td>9.0</td>\n",
       "    </tr>\n",
       "    <tr>\n",
       "      <th>3</th>\n",
       "      <td>1691</td>\n",
       "      <td>885.0</td>\n",
       "    </tr>\n",
       "    <tr>\n",
       "      <th>4</th>\n",
       "      <td>536</td>\n",
       "      <td>1691.0</td>\n",
       "    </tr>\n",
       "    <tr>\n",
       "      <th>5</th>\n",
       "      <td>231</td>\n",
       "      <td>NaN</td>\n",
       "    </tr>\n",
       "    <tr>\n",
       "      <th>6</th>\n",
       "      <td>542</td>\n",
       "      <td>378.0</td>\n",
       "    </tr>\n",
       "    <tr>\n",
       "      <th>7</th>\n",
       "      <td>1146</td>\n",
       "      <td>542.0</td>\n",
       "    </tr>\n",
       "    <tr>\n",
       "      <th>8</th>\n",
       "      <td>1140</td>\n",
       "      <td>542.0</td>\n",
       "    </tr>\n",
       "    <tr>\n",
       "      <th>9</th>\n",
       "      <td>1479</td>\n",
       "      <td>1537.0</td>\n",
       "    </tr>\n",
       "    <tr>\n",
       "      <th>10</th>\n",
       "      <td>83</td>\n",
       "      <td>1621.0</td>\n",
       "    </tr>\n",
       "    <tr>\n",
       "      <th>11</th>\n",
       "      <td>688</td>\n",
       "      <td>893.0</td>\n",
       "    </tr>\n",
       "    <tr>\n",
       "      <th>12</th>\n",
       "      <td>257</td>\n",
       "      <td>312.0</td>\n",
       "    </tr>\n",
       "    <tr>\n",
       "      <th>13</th>\n",
       "      <td>1640</td>\n",
       "      <td>622.0</td>\n",
       "    </tr>\n",
       "    <tr>\n",
       "      <th>14</th>\n",
       "      <td>963</td>\n",
       "      <td>1281.0</td>\n",
       "    </tr>\n",
       "    <tr>\n",
       "      <th>15</th>\n",
       "      <td>412</td>\n",
       "      <td>1110.0</td>\n",
       "    </tr>\n",
       "    <tr>\n",
       "      <th>16</th>\n",
       "      <td>948</td>\n",
       "      <td>1110.0</td>\n",
       "    </tr>\n",
       "    <tr>\n",
       "      <th>17</th>\n",
       "      <td>934</td>\n",
       "      <td>1110.0</td>\n",
       "    </tr>\n",
       "    <tr>\n",
       "      <th>18</th>\n",
       "      <td>148</td>\n",
       "      <td>1110.0</td>\n",
       "    </tr>\n",
       "    <tr>\n",
       "      <th>19</th>\n",
       "      <td>12</td>\n",
       "      <td>1110.0</td>\n",
       "    </tr>\n",
       "  </tbody>\n",
       "</table>\n",
       "</div>"
      ]
     },
     "execution_count": 14,
     "metadata": {},
     "output_type": "execute_result"
    }
   ],
   "execution_count": 14
  },
  {
   "metadata": {},
   "cell_type": "markdown",
   "source": "Category tree simply contains the categories and whether they have a parent or not. Could construct a hierarchical structure from this.",
   "id": "9cd704e859a58dcd"
  },
  {
   "metadata": {},
   "cell_type": "markdown",
   "source": "### Events",
   "id": "702241f630f9dca"
  },
  {
   "metadata": {
    "ExecuteTime": {
     "end_time": "2025-05-28T01:01:42.668798Z",
     "start_time": "2025-05-28T01:01:42.273120Z"
    }
   },
   "cell_type": "code",
   "source": [
    "events = pd.read_csv(\"../Datasets/2/events.csv\")\n",
    "print(f'The dataset contains {len(events)} rows')\n",
    "events.head(20)"
   ],
   "id": "d5735593acb51f20",
   "outputs": [
    {
     "name": "stdout",
     "output_type": "stream",
     "text": [
      "The dataset contains 2756101 rows\n"
     ]
    },
    {
     "data": {
      "text/plain": [
       "        timestamp  visitorid      event  itemid  transactionid\n",
       "0   1433221332117     257597       view  355908            NaN\n",
       "1   1433224214164     992329       view  248676            NaN\n",
       "2   1433221999827     111016       view  318965            NaN\n",
       "3   1433221955914     483717       view  253185            NaN\n",
       "4   1433221337106     951259       view  367447            NaN\n",
       "5   1433224086234     972639       view   22556            NaN\n",
       "6   1433221923240     810725       view  443030            NaN\n",
       "7   1433223291897     794181       view  439202            NaN\n",
       "8   1433220899221     824915       view  428805            NaN\n",
       "9   1433221204592     339335       view   82389            NaN\n",
       "10  1433222162373     176446       view   10572            NaN\n",
       "11  1433221701252     929206       view  410676            NaN\n",
       "12  1433224229496      15795       view   44872            NaN\n",
       "13  1433223697356     598426       view  156489            NaN\n",
       "14  1433224078165     223343       view  402625            NaN\n",
       "15  1433222531378      57036       view  334662            NaN\n",
       "16  1433223239808    1377281       view  251467            NaN\n",
       "17  1433223236124     287857  addtocart    5206            NaN\n",
       "18  1433224244282    1370216       view  176721            NaN\n",
       "19  1433221078505     158090  addtocart   10572            NaN"
      ],
      "text/html": [
       "<div>\n",
       "<style scoped>\n",
       "    .dataframe tbody tr th:only-of-type {\n",
       "        vertical-align: middle;\n",
       "    }\n",
       "\n",
       "    .dataframe tbody tr th {\n",
       "        vertical-align: top;\n",
       "    }\n",
       "\n",
       "    .dataframe thead th {\n",
       "        text-align: right;\n",
       "    }\n",
       "</style>\n",
       "<table border=\"1\" class=\"dataframe\">\n",
       "  <thead>\n",
       "    <tr style=\"text-align: right;\">\n",
       "      <th></th>\n",
       "      <th>timestamp</th>\n",
       "      <th>visitorid</th>\n",
       "      <th>event</th>\n",
       "      <th>itemid</th>\n",
       "      <th>transactionid</th>\n",
       "    </tr>\n",
       "  </thead>\n",
       "  <tbody>\n",
       "    <tr>\n",
       "      <th>0</th>\n",
       "      <td>1433221332117</td>\n",
       "      <td>257597</td>\n",
       "      <td>view</td>\n",
       "      <td>355908</td>\n",
       "      <td>NaN</td>\n",
       "    </tr>\n",
       "    <tr>\n",
       "      <th>1</th>\n",
       "      <td>1433224214164</td>\n",
       "      <td>992329</td>\n",
       "      <td>view</td>\n",
       "      <td>248676</td>\n",
       "      <td>NaN</td>\n",
       "    </tr>\n",
       "    <tr>\n",
       "      <th>2</th>\n",
       "      <td>1433221999827</td>\n",
       "      <td>111016</td>\n",
       "      <td>view</td>\n",
       "      <td>318965</td>\n",
       "      <td>NaN</td>\n",
       "    </tr>\n",
       "    <tr>\n",
       "      <th>3</th>\n",
       "      <td>1433221955914</td>\n",
       "      <td>483717</td>\n",
       "      <td>view</td>\n",
       "      <td>253185</td>\n",
       "      <td>NaN</td>\n",
       "    </tr>\n",
       "    <tr>\n",
       "      <th>4</th>\n",
       "      <td>1433221337106</td>\n",
       "      <td>951259</td>\n",
       "      <td>view</td>\n",
       "      <td>367447</td>\n",
       "      <td>NaN</td>\n",
       "    </tr>\n",
       "    <tr>\n",
       "      <th>5</th>\n",
       "      <td>1433224086234</td>\n",
       "      <td>972639</td>\n",
       "      <td>view</td>\n",
       "      <td>22556</td>\n",
       "      <td>NaN</td>\n",
       "    </tr>\n",
       "    <tr>\n",
       "      <th>6</th>\n",
       "      <td>1433221923240</td>\n",
       "      <td>810725</td>\n",
       "      <td>view</td>\n",
       "      <td>443030</td>\n",
       "      <td>NaN</td>\n",
       "    </tr>\n",
       "    <tr>\n",
       "      <th>7</th>\n",
       "      <td>1433223291897</td>\n",
       "      <td>794181</td>\n",
       "      <td>view</td>\n",
       "      <td>439202</td>\n",
       "      <td>NaN</td>\n",
       "    </tr>\n",
       "    <tr>\n",
       "      <th>8</th>\n",
       "      <td>1433220899221</td>\n",
       "      <td>824915</td>\n",
       "      <td>view</td>\n",
       "      <td>428805</td>\n",
       "      <td>NaN</td>\n",
       "    </tr>\n",
       "    <tr>\n",
       "      <th>9</th>\n",
       "      <td>1433221204592</td>\n",
       "      <td>339335</td>\n",
       "      <td>view</td>\n",
       "      <td>82389</td>\n",
       "      <td>NaN</td>\n",
       "    </tr>\n",
       "    <tr>\n",
       "      <th>10</th>\n",
       "      <td>1433222162373</td>\n",
       "      <td>176446</td>\n",
       "      <td>view</td>\n",
       "      <td>10572</td>\n",
       "      <td>NaN</td>\n",
       "    </tr>\n",
       "    <tr>\n",
       "      <th>11</th>\n",
       "      <td>1433221701252</td>\n",
       "      <td>929206</td>\n",
       "      <td>view</td>\n",
       "      <td>410676</td>\n",
       "      <td>NaN</td>\n",
       "    </tr>\n",
       "    <tr>\n",
       "      <th>12</th>\n",
       "      <td>1433224229496</td>\n",
       "      <td>15795</td>\n",
       "      <td>view</td>\n",
       "      <td>44872</td>\n",
       "      <td>NaN</td>\n",
       "    </tr>\n",
       "    <tr>\n",
       "      <th>13</th>\n",
       "      <td>1433223697356</td>\n",
       "      <td>598426</td>\n",
       "      <td>view</td>\n",
       "      <td>156489</td>\n",
       "      <td>NaN</td>\n",
       "    </tr>\n",
       "    <tr>\n",
       "      <th>14</th>\n",
       "      <td>1433224078165</td>\n",
       "      <td>223343</td>\n",
       "      <td>view</td>\n",
       "      <td>402625</td>\n",
       "      <td>NaN</td>\n",
       "    </tr>\n",
       "    <tr>\n",
       "      <th>15</th>\n",
       "      <td>1433222531378</td>\n",
       "      <td>57036</td>\n",
       "      <td>view</td>\n",
       "      <td>334662</td>\n",
       "      <td>NaN</td>\n",
       "    </tr>\n",
       "    <tr>\n",
       "      <th>16</th>\n",
       "      <td>1433223239808</td>\n",
       "      <td>1377281</td>\n",
       "      <td>view</td>\n",
       "      <td>251467</td>\n",
       "      <td>NaN</td>\n",
       "    </tr>\n",
       "    <tr>\n",
       "      <th>17</th>\n",
       "      <td>1433223236124</td>\n",
       "      <td>287857</td>\n",
       "      <td>addtocart</td>\n",
       "      <td>5206</td>\n",
       "      <td>NaN</td>\n",
       "    </tr>\n",
       "    <tr>\n",
       "      <th>18</th>\n",
       "      <td>1433224244282</td>\n",
       "      <td>1370216</td>\n",
       "      <td>view</td>\n",
       "      <td>176721</td>\n",
       "      <td>NaN</td>\n",
       "    </tr>\n",
       "    <tr>\n",
       "      <th>19</th>\n",
       "      <td>1433221078505</td>\n",
       "      <td>158090</td>\n",
       "      <td>addtocart</td>\n",
       "      <td>10572</td>\n",
       "      <td>NaN</td>\n",
       "    </tr>\n",
       "  </tbody>\n",
       "</table>\n",
       "</div>"
      ]
     },
     "execution_count": 15,
     "metadata": {},
     "output_type": "execute_result"
    }
   ],
   "execution_count": 15
  },
  {
   "metadata": {},
   "cell_type": "markdown",
   "source": "Events basically contains a log of all the events by individual users at specific user id.",
   "id": "8091073c0183a21d"
  },
  {
   "metadata": {
    "ExecuteTime": {
     "end_time": "2025-05-28T01:33:37.728900Z",
     "start_time": "2025-05-28T01:33:37.513186Z"
    }
   },
   "cell_type": "code",
   "source": "datetime.utcfromtimestamp(max(events['timestamp'])/1000) - datetime.utcfromtimestamp(min(events['timestamp'])/1000)",
   "id": "5b90be4211d249de",
   "outputs": [
    {
     "data": {
      "text/plain": [
       "datetime.timedelta(days=137, seconds=86383, microseconds=404000)"
      ]
     },
     "execution_count": 47,
     "metadata": {},
     "output_type": "execute_result"
    }
   ],
   "execution_count": 47
  },
  {
   "metadata": {},
   "cell_type": "markdown",
   "source": "We have about 137 days worth of events.",
   "id": "e38a75653604ede9"
  },
  {
   "metadata": {
    "ExecuteTime": {
     "end_time": "2025-05-28T01:35:20.728644Z",
     "start_time": "2025-05-28T01:35:19.886231Z"
    }
   },
   "cell_type": "code",
   "source": [
    "# comparing the max and min of events and item_properties\n",
    "datetime.utcfromtimestamp(max(item_properties['timestamp'])/1000) - datetime.utcfromtimestamp(max(events['timestamp'])/1000)"
   ],
   "id": "e8b7de77c55b6418",
   "outputs": [
    {
     "data": {
      "text/plain": [
       "datetime.timedelta(days=-5, seconds=12, microseconds=212000)"
      ]
     },
     "execution_count": 48,
     "metadata": {},
     "output_type": "execute_result"
    }
   ],
   "execution_count": 48
  },
  {
   "metadata": {
    "ExecuteTime": {
     "end_time": "2025-05-28T01:35:39.110011Z",
     "start_time": "2025-05-28T01:35:38.256760Z"
    }
   },
   "cell_type": "code",
   "source": "datetime.utcfromtimestamp(min(item_properties['timestamp'])/1000) - datetime.utcfromtimestamp(min(events['timestamp'])/1000)",
   "id": "db96192bdf431a2e",
   "outputs": [
    {
     "data": {
      "text/plain": [
       "datetime.timedelta(days=6, seconds=86395, microseconds=616000)"
      ]
     },
     "execution_count": 49,
     "metadata": {},
     "output_type": "execute_result"
    }
   ],
   "execution_count": 49
  },
  {
   "metadata": {},
   "cell_type": "markdown",
   "source": "events start 6 days prior to item_properties and ends after 5 days which explains the 11 days difference.",
   "id": "93155cd7515c04f0"
  }
 ],
 "metadata": {
  "kernelspec": {
   "display_name": "Python 3",
   "language": "python",
   "name": "python3"
  },
  "language_info": {
   "codemirror_mode": {
    "name": "ipython",
    "version": 2
   },
   "file_extension": ".py",
   "mimetype": "text/x-python",
   "name": "python",
   "nbconvert_exporter": "python",
   "pygments_lexer": "ipython2",
   "version": "2.7.6"
  }
 },
 "nbformat": 4,
 "nbformat_minor": 5
}
